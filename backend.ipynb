{
 "cells": [
  {
   "cell_type": "code",
   "execution_count": 31,
   "id": "32fde756",
   "metadata": {},
   "outputs": [
    {
     "data": {
      "text/plain": [
       "[{'first_name': 'shivam',\n",
       "  'last_name': 'Mandhan',\n",
       "  'mobile': '7909830977',\n",
       "  'address': 'Gwalior',\n",
       "  'email': 'shivammandhan18@gmail.com',\n",
       "  'education': {'college': 'mits',\n",
       "   'degree': 'B TECH',\n",
       "   'year': 23,\n",
       "   'cgpa': 8.3},\n",
       "  'skills': ['Python', 'CPP', 'JAVA'],\n",
       "  'interests': ['books', 'chess'],\n",
       "  'id': 1}]"
      ]
     },
     "execution_count": 31,
     "metadata": {},
     "output_type": "execute_result"
    }
   ],
   "source": [
    "import requests\n",
    "import json\n",
    "url = \"https://apigenerator.dronahq.com/api/6WO4KBra/data\"\n",
    "response = requests.get(url)\n",
    "data = json.loads(response.text)\n",
    "data"
   ]
  },
  {
   "cell_type": "code",
   "execution_count": 32,
   "id": "1aa11e53",
   "metadata": {},
   "outputs": [
    {
     "name": "stdout",
     "output_type": "stream",
     "text": [
      "choose template: t1 or t2: t1\n"
     ]
    }
   ],
   "source": [
    "ip = input('choose template: t1 or t2: ')"
   ]
  },
  {
   "cell_type": "code",
   "execution_count": 33,
   "id": "134ef104",
   "metadata": {},
   "outputs": [
    {
     "name": "stdout",
     "output_type": "stream",
     "text": [
      "template1.txt\n"
     ]
    }
   ],
   "source": [
    "if ip=='t1':\n",
    "    file_path = 'template1.txt'\n",
    "print(file_path)"
   ]
  },
  {
   "cell_type": "code",
   "execution_count": 34,
   "id": "6f1bbcee",
   "metadata": {},
   "outputs": [
    {
     "data": {
      "text/plain": [
       "['<!DOCTYPE html>\\n',\n",
       " '<html lang=\"en-US\">\\n',\n",
       " '\\t<head>\\n',\n",
       " '<meta name=\"viewport\" content=\"width=device-width, initial-scale=1.0\">\\n',\n",
       " '\\t\\t<meta charset=\"utf-8\" />\\n',\n",
       " '\\t\\t<title>Copy of Python - SHIVAM MANDHAN RESUME.docx</title>\\n',\n",
       " '\\t\\t<style>\\n',\n",
       " \"\\t\\t\\tbody { widows:0; orphans:0; font-family:'Arial MT'; font-size:11pt }\\n\",\n",
       " '\\t\\t\\th1, p { margin:0pt }\\n',\n",
       " '\\t\\t\\tli { margin-top:0pt; margin-bottom:0pt }\\n',\n",
       " '\\t\\t\\th1 { margin-left:5pt; page-break-inside:auto; page-break-after:auto; widows:0; orphans:0; font-family:Arial; font-size:12pt; font-weight:bold; color:#000000 }\\n',\n",
       " \"\\t\\t\\t.BodyText { margin-top:0.6pt; margin-left:63.5pt; widows:0; orphans:0; font-family:'Arial MT'; font-size:12pt }\\n\",\n",
       " \"\\t\\t\\t.ListParagraph { margin-top:0.6pt; margin-left:63.5pt; text-indent:-18pt; widows:0; orphans:0; font-family:'Arial MT'; font-size:11pt }\\n\",\n",
       " \"\\t\\t\\t.TableParagraph { widows:0; orphans:0; font-family:'Arial MT'; font-size:11pt }\\n\",\n",
       " \"\\t\\t\\t.Title { margin-top:1.45pt; margin-left:6.4pt; widows:0; orphans:0; font-family:'Arial MT'; font-size:14pt; text-decoration:underline }\\n\",\n",
       " '\\t\\t</style>\\n',\n",
       " '\\t</head>\\n',\n",
       " '\\t<body>\\n',\n",
       " '\\t\\t\\t<p style=\"margin-top:3.25pt; margin-left:7.25pt; font-size:18pt\">\\n',\n",
       " '\\t\\t\\t\\t<strong><span style=\"font-family:Arial; letter-spacing:-0.15pt; background-color:#fff1cc\">rep_fname</span></strong><strong><span style=\"font-family:Arial; letter-spacing:0.05pt; background-color:#fff1cc\"> rep_lname</span></strong><strong><span style=\"font-family:Arial; letter-spacing:-0.15pt; background-color:#fff1cc\"></span></strong><strong><span style=\"font-family:Arial; letter-spacing:-1.1pt\"> </span></strong><span style=\"font-size:14pt; letter-spacing:-0.15pt\">|</span><span style=\"font-size:14pt\"> </span><span style=\"font-size:14pt; letter-spacing:-0.15pt\">rep_mobile </span><span style=\"font-size:14pt; letter-spacing:-0.1pt\">|</span><span style=\"font-size:14pt; letter-spacing:0.05pt\"> rep_add</span><span style=\"font-size:14pt; letter-spacing:-0.1pt\"></span>\\n',\n",
       " '\\t\\t\\t</p>\\n',\n",
       " '\\t\\t\\t<p class=\"Title\">\\n',\n",
       " '\\t\\t\\t\\trep_email<span style=\"letter-spacing:-0.4pt\"> </span>&#xa0;\\n',\n",
       " '\\t\\t\\t</p>\\n',\n",
       " '\\t\\t\\t<p class=\"BodyText\" style=\"margin-top:0.1pt; margin-left:0pt\">\\n',\n",
       " '\\t\\t\\t\\t<span style=\"font-family:Roboto\">&#xa0;</span>\\n',\n",
       " '\\t\\t\\t</p>\\n',\n",
       " '\\t\\t\\t<h1>\\n',\n",
       " '\\t\\t\\t\\t<span style=\"background-color:#fff1cc\">Education</span>\\n',\n",
       " '\\t\\t\\t</h1>\\n',\n",
       " '\\t\\t\\t<p class=\"BodyText\" style=\"margin-top:6.9pt; margin-right:73.05pt; margin-left:5pt; line-height:104%\">\\n',\n",
       " '\\t\\t\\t\\trep_clg | rep_degree<span style=\"letter-spacing:-0.3pt\"> </span>|<span style=\"letter-spacing:-0.3pt\"> </span>rep_year | rep_cgpa\\n',\n",
       " '\\t\\t\\t</p>\\n',\n",
       " '\\t\\t\\t<p class=\"BodyText\" style=\"margin-top:0.35pt; margin-left:0pt; font-size:12.5pt\">\\n',\n",
       " '\\t\\t\\t\\t&#xa0;\\n',\n",
       " '\\t\\t\\t</p>\\n',\n",
       " '\\t\\t\\t<h1>\\n',\n",
       " '\\t\\t\\t\\t<span style=\"background-color:#fff1cc\">Technical</span><span style=\"letter-spacing:-0.45pt; background-color:#fff1cc\"> </span><span style=\"background-color:#fff1cc\">Skills</span>\\n',\n",
       " '\\t\\t\\t</h1>\\n',\n",
       " '\\t\\t\\t<p class=\"BodyText\" style=\"margin-top:0.1pt; margin-left:5pt\">\\n',\n",
       " '\\t\\t\\t\\trep_skills\\n',\n",
       " '\\t\\t\\t</p>\\n',\n",
       " '\\t\\t\\t<p class=\"BodyText\" style=\"margin-top:0.05pt; margin-left:0pt; font-size:12.5pt\">\\n',\n",
       " '\\t\\t\\t\\t&#xa0;\\n',\n",
       " '\\t\\t\\t</p>\\n',\n",
       " '\\t\\t\\t<h1>\\n',\n",
       " '\\t\\t\\t\\t<span style=\"background-color:#fff1cc\">Interests</span>\\n',\n",
       " '\\t\\t\\t</h1>\\n',\n",
       " '\\t\\t\\t<p class=\"BodyText\" style=\"margin-top:6.85pt; margin-left:5pt\">\\n',\n",
       " '\\t\\t\\t\\trep_interest\\n',\n",
       " '\\t\\t\\t</p>\\n',\n",
       " '\\t<p style=\"bottom: 10px; right: 10px; position: absolute;\"><a href=\"https://wordtohtml.net\" target=\"_blank\" style=\"font-size:11px; color: #d0d0d0\">Converted to HTML with WordToHTML.net</a></p>\\n',\n",
       " '<script defer src=\"https://static.cloudflareinsights.com/beacon.min.js/v84a3a4012de94ce1a686ba8c167c359c1696973893317\" integrity=\"sha512-euoFGowhlaLqXsPWQ48qSkBSCFs3DPRyiwVu3FjR96cMPx+Fr+gpWRhIafcHwqwCqWS42RZhIudOvEI+Ckf6MA==\" data-cf-beacon=\\'{\"rayId\":\"865dfe5bbaff3dfb\",\"r\":1,\"version\":\"2024.2.4\",\"token\":\"4581d6a58cf94e929fad52deda295622\"}\\' crossorigin=\"anonymous\"></script>\\n',\n",
       " '</body>\\n',\n",
       " '</html>']"
      ]
     },
     "execution_count": 34,
     "metadata": {},
     "output_type": "execute_result"
    }
   ],
   "source": [
    "template = open(file_path,\"r+\")\n",
    "template_arr = template.readlines()\n",
    "template_arr"
   ]
  },
  {
   "cell_type": "code",
   "execution_count": 35,
   "id": "c40ac494",
   "metadata": {},
   "outputs": [
    {
     "data": {
      "text/plain": [
       "'<!DOCTYPE html>\\n<html lang=\"en-US\">\\n\\t<head>\\n<meta name=\"viewport\" content=\"width=device-width, initial-scale=1.0\">\\n\\t\\t<meta charset=\"utf-8\" />\\n\\t\\t<title>Copy of Python - SHIVAM MANDHAN RESUME.docx</title>\\n\\t\\t<style>\\n\\t\\t\\tbody { widows:0; orphans:0; font-family:\\'Arial MT\\'; font-size:11pt }\\n\\t\\t\\th1, p { margin:0pt }\\n\\t\\t\\tli { margin-top:0pt; margin-bottom:0pt }\\n\\t\\t\\th1 { margin-left:5pt; page-break-inside:auto; page-break-after:auto; widows:0; orphans:0; font-family:Arial; font-size:12pt; font-weight:bold; color:#000000 }\\n\\t\\t\\t.BodyText { margin-top:0.6pt; margin-left:63.5pt; widows:0; orphans:0; font-family:\\'Arial MT\\'; font-size:12pt }\\n\\t\\t\\t.ListParagraph { margin-top:0.6pt; margin-left:63.5pt; text-indent:-18pt; widows:0; orphans:0; font-family:\\'Arial MT\\'; font-size:11pt }\\n\\t\\t\\t.TableParagraph { widows:0; orphans:0; font-family:\\'Arial MT\\'; font-size:11pt }\\n\\t\\t\\t.Title { margin-top:1.45pt; margin-left:6.4pt; widows:0; orphans:0; font-family:\\'Arial MT\\'; font-size:14pt; text-decoration:underline }\\n\\t\\t</style>\\n\\t</head>\\n\\t<body>\\n\\t\\t\\t<p style=\"margin-top:3.25pt; margin-left:7.25pt; font-size:18pt\">\\n\\t\\t\\t\\t<strong><span style=\"font-family:Arial; letter-spacing:-0.15pt; background-color:#fff1cc\">rep_fname</span></strong><strong><span style=\"font-family:Arial; letter-spacing:0.05pt; background-color:#fff1cc\"> rep_lname</span></strong><strong><span style=\"font-family:Arial; letter-spacing:-0.15pt; background-color:#fff1cc\"></span></strong><strong><span style=\"font-family:Arial; letter-spacing:-1.1pt\"> </span></strong><span style=\"font-size:14pt; letter-spacing:-0.15pt\">|</span><span style=\"font-size:14pt\"> </span><span style=\"font-size:14pt; letter-spacing:-0.15pt\">rep_mobile </span><span style=\"font-size:14pt; letter-spacing:-0.1pt\">|</span><span style=\"font-size:14pt; letter-spacing:0.05pt\"> rep_add</span><span style=\"font-size:14pt; letter-spacing:-0.1pt\"></span>\\n\\t\\t\\t</p>\\n\\t\\t\\t<p class=\"Title\">\\n\\t\\t\\t\\trep_email<span style=\"letter-spacing:-0.4pt\"> </span>&#xa0;\\n\\t\\t\\t</p>\\n\\t\\t\\t<p class=\"BodyText\" style=\"margin-top:0.1pt; margin-left:0pt\">\\n\\t\\t\\t\\t<span style=\"font-family:Roboto\">&#xa0;</span>\\n\\t\\t\\t</p>\\n\\t\\t\\t<h1>\\n\\t\\t\\t\\t<span style=\"background-color:#fff1cc\">Education</span>\\n\\t\\t\\t</h1>\\n\\t\\t\\t<p class=\"BodyText\" style=\"margin-top:6.9pt; margin-right:73.05pt; margin-left:5pt; line-height:104%\">\\n\\t\\t\\t\\trep_clg | rep_degree<span style=\"letter-spacing:-0.3pt\"> </span>|<span style=\"letter-spacing:-0.3pt\"> </span>rep_year | rep_cgpa\\n\\t\\t\\t</p>\\n\\t\\t\\t<p class=\"BodyText\" style=\"margin-top:0.35pt; margin-left:0pt; font-size:12.5pt\">\\n\\t\\t\\t\\t&#xa0;\\n\\t\\t\\t</p>\\n\\t\\t\\t<h1>\\n\\t\\t\\t\\t<span style=\"background-color:#fff1cc\">Technical</span><span style=\"letter-spacing:-0.45pt; background-color:#fff1cc\"> </span><span style=\"background-color:#fff1cc\">Skills</span>\\n\\t\\t\\t</h1>\\n\\t\\t\\t<p class=\"BodyText\" style=\"margin-top:0.1pt; margin-left:5pt\">\\n\\t\\t\\t\\trep_skills\\n\\t\\t\\t</p>\\n\\t\\t\\t<p class=\"BodyText\" style=\"margin-top:0.05pt; margin-left:0pt; font-size:12.5pt\">\\n\\t\\t\\t\\t&#xa0;\\n\\t\\t\\t</p>\\n\\t\\t\\t<h1>\\n\\t\\t\\t\\t<span style=\"background-color:#fff1cc\">Interests</span>\\n\\t\\t\\t</h1>\\n\\t\\t\\t<p class=\"BodyText\" style=\"margin-top:6.85pt; margin-left:5pt\">\\n\\t\\t\\t\\trep_interest\\n\\t\\t\\t</p>\\n\\t<p style=\"bottom: 10px; right: 10px; position: absolute;\"><a href=\"https://wordtohtml.net\" target=\"_blank\" style=\"font-size:11px; color: #d0d0d0\">Converted to HTML with WordToHTML.net</a></p>\\n<script defer src=\"https://static.cloudflareinsights.com/beacon.min.js/v84a3a4012de94ce1a686ba8c167c359c1696973893317\" integrity=\"sha512-euoFGowhlaLqXsPWQ48qSkBSCFs3DPRyiwVu3FjR96cMPx+Fr+gpWRhIafcHwqwCqWS42RZhIudOvEI+Ckf6MA==\" data-cf-beacon=\\'{\"rayId\":\"865dfe5bbaff3dfb\",\"r\":1,\"version\":\"2024.2.4\",\"token\":\"4581d6a58cf94e929fad52deda295622\"}\\' crossorigin=\"anonymous\"></script>\\n</body>\\n</html>'"
      ]
     },
     "execution_count": 35,
     "metadata": {},
     "output_type": "execute_result"
    }
   ],
   "source": [
    "template_str = ''.join(template_arr)\n",
    "template_str"
   ]
  },
  {
   "cell_type": "code",
   "execution_count": 38,
   "id": "4764aff6",
   "metadata": {},
   "outputs": [
    {
     "data": {
      "text/plain": [
       "'<!DOCTYPE html>\\n<html lang=\"en-US\">\\n\\t<head>\\n<meta name=\"viewport\" content=\"width=device-width, initial-scale=1.0\">\\n\\t\\t<meta charset=\"utf-8\" />\\n\\t\\t<title>Copy of Python - SHIVAM MANDHAN RESUME.docx</title>\\n\\t\\t<style>\\n\\t\\t\\tbody { widows:0; orphans:0; font-family:\\'Arial MT\\'; font-size:11pt }\\n\\t\\t\\th1, p { margin:0pt }\\n\\t\\t\\tli { margin-top:0pt; margin-bottom:0pt }\\n\\t\\t\\th1 { margin-left:5pt; page-break-inside:auto; page-break-after:auto; widows:0; orphans:0; font-family:Arial; font-size:12pt; font-weight:bold; color:#000000 }\\n\\t\\t\\t.BodyText { margin-top:0.6pt; margin-left:63.5pt; widows:0; orphans:0; font-family:\\'Arial MT\\'; font-size:12pt }\\n\\t\\t\\t.ListParagraph { margin-top:0.6pt; margin-left:63.5pt; text-indent:-18pt; widows:0; orphans:0; font-family:\\'Arial MT\\'; font-size:11pt }\\n\\t\\t\\t.TableParagraph { widows:0; orphans:0; font-family:\\'Arial MT\\'; font-size:11pt }\\n\\t\\t\\t.Title { margin-top:1.45pt; margin-left:6.4pt; widows:0; orphans:0; font-family:\\'Arial MT\\'; font-size:14pt; text-decoration:underline }\\n\\t\\t</style>\\n\\t</head>\\n\\t<body>\\n\\t\\t\\t<p style=\"margin-top:3.25pt; margin-left:7.25pt; font-size:18pt\">\\n\\t\\t\\t\\t<strong><span style=\"font-family:Arial; letter-spacing:-0.15pt; background-color:#fff1cc\">shivam</span></strong><strong><span style=\"font-family:Arial; letter-spacing:0.05pt; background-color:#fff1cc\"> Mandhan</span></strong><strong><span style=\"font-family:Arial; letter-spacing:-0.15pt; background-color:#fff1cc\"></span></strong><strong><span style=\"font-family:Arial; letter-spacing:-1.1pt\"> </span></strong><span style=\"font-size:14pt; letter-spacing:-0.15pt\">|</span><span style=\"font-size:14pt\"> </span><span style=\"font-size:14pt; letter-spacing:-0.15pt\">7909830977 </span><span style=\"font-size:14pt; letter-spacing:-0.1pt\">|</span><span style=\"font-size:14pt; letter-spacing:0.05pt\"> Gwalior</span><span style=\"font-size:14pt; letter-spacing:-0.1pt\"></span>\\n\\t\\t\\t</p>\\n\\t\\t\\t<p class=\"Title\">\\n\\t\\t\\t\\tshivammandhan18@gmail.com<span style=\"letter-spacing:-0.4pt\"> </span>&#xa0;\\n\\t\\t\\t</p>\\n\\t\\t\\t<p class=\"BodyText\" style=\"margin-top:0.1pt; margin-left:0pt\">\\n\\t\\t\\t\\t<span style=\"font-family:Roboto\">&#xa0;</span>\\n\\t\\t\\t</p>\\n\\t\\t\\t<h1>\\n\\t\\t\\t\\t<span style=\"background-color:#fff1cc\">Education</span>\\n\\t\\t\\t</h1>\\n\\t\\t\\t<p class=\"BodyText\" style=\"margin-top:6.9pt; margin-right:73.05pt; margin-left:5pt; line-height:104%\">\\n\\t\\t\\t\\tmits | mits<span style=\"letter-spacing:-0.3pt\"> </span>|<span style=\"letter-spacing:-0.3pt\"> </span>23 | 8.3\\n\\t\\t\\t</p>\\n\\t\\t\\t<p class=\"BodyText\" style=\"margin-top:0.35pt; margin-left:0pt; font-size:12.5pt\">\\n\\t\\t\\t\\t&#xa0;\\n\\t\\t\\t</p>\\n\\t\\t\\t<h1>\\n\\t\\t\\t\\t<span style=\"background-color:#fff1cc\">Technical</span><span style=\"letter-spacing:-0.45pt; background-color:#fff1cc\"> </span><span style=\"background-color:#fff1cc\">Skills</span>\\n\\t\\t\\t</h1>\\n\\t\\t\\t<p class=\"BodyText\" style=\"margin-top:0.1pt; margin-left:5pt\">\\n\\t\\t\\t\\tPython,CPP,JAVA\\n\\t\\t\\t</p>\\n\\t\\t\\t<p class=\"BodyText\" style=\"margin-top:0.05pt; margin-left:0pt; font-size:12.5pt\">\\n\\t\\t\\t\\t&#xa0;\\n\\t\\t\\t</p>\\n\\t\\t\\t<h1>\\n\\t\\t\\t\\t<span style=\"background-color:#fff1cc\">Interests</span>\\n\\t\\t\\t</h1>\\n\\t\\t\\t<p class=\"BodyText\" style=\"margin-top:6.85pt; margin-left:5pt\">\\n\\t\\t\\t\\tbooks,chess\\n\\t\\t\\t</p>\\n\\t<p style=\"bottom: 10px; right: 10px; position: absolute;\"><a href=\"https://wordtohtml.net\" target=\"_blank\" style=\"font-size:11px; color: #d0d0d0\">Converted to HTML with WordToHTML.net</a></p>\\n<script defer src=\"https://static.cloudflareinsights.com/beacon.min.js/v84a3a4012de94ce1a686ba8c167c359c1696973893317\" integrity=\"sha512-euoFGowhlaLqXsPWQ48qSkBSCFs3DPRyiwVu3FjR96cMPx+Fr+gpWRhIafcHwqwCqWS42RZhIudOvEI+Ckf6MA==\" data-cf-beacon=\\'{\"rayId\":\"865dfe5bbaff3dfb\",\"r\":1,\"version\":\"2024.2.4\",\"token\":\"4581d6a58cf94e929fad52deda295622\"}\\' crossorigin=\"anonymous\"></script>\\n</body>\\n</html>'"
      ]
     },
     "execution_count": 38,
     "metadata": {},
     "output_type": "execute_result"
    }
   ],
   "source": [
    "template_str = template_str.replace(\"rep_fname\", data[0]['first_name'])\n",
    "template_str = template_str.replace(\"rep_lname\", data[0]['last_name'])\n",
    "template_str = template_str.replace(\"rep_mobile\", data[0]['mobile'])\n",
    "template_str = template_str.replace(\"rep_add\", data[0]['address'])\n",
    "template_str = template_str.replace(\"rep_email\", data[0]['email'])\n",
    "template_str = template_str.replace(\"rep_clg\", data[0]['education']['college'])\n",
    "template_str = template_str.replace(\"rep_degree\", data[0]['education']['degree'])\n",
    "template_str = template_str.replace(\"rep_year\", str(data[0]['education']['year']))\n",
    "template_str = template_str.replace(\"rep_cgpa\", str(data[0]['education']['cgpa']))\n",
    "template_str = template_str.replace(\"rep_skills\", ','.join(data[0]['skills']))\n",
    "template_str = template_str.replace(\"rep_interest\", ','.join(data[0]['interests']))\n",
    "\n",
    "template_str"
   ]
  },
  {
   "cell_type": "code",
   "execution_count": 39,
   "id": "1c72e031",
   "metadata": {},
   "outputs": [],
   "source": [
    "# Define the file path where you want to save the HTML file\n",
    "file_path = \"output.html\"\n",
    "\n",
    "# Write the HTML content to a file\n",
    "with open(file_path, \"w\") as file:\n",
    "    file.write(template_str)"
   ]
  },
  {
   "cell_type": "code",
   "execution_count": null,
   "id": "d7f9aba0",
   "metadata": {},
   "outputs": [],
   "source": []
  },
  {
   "cell_type": "code",
   "execution_count": null,
   "id": "e60c6af0",
   "metadata": {},
   "outputs": [],
   "source": []
  }
 ],
 "metadata": {
  "kernelspec": {
   "display_name": "Python 3 (ipykernel)",
   "language": "python",
   "name": "python3"
  },
  "language_info": {
   "codemirror_mode": {
    "name": "ipython",
    "version": 3
   },
   "file_extension": ".py",
   "mimetype": "text/x-python",
   "name": "python",
   "nbconvert_exporter": "python",
   "pygments_lexer": "ipython3",
   "version": "3.10.11"
  }
 },
 "nbformat": 4,
 "nbformat_minor": 5
}
