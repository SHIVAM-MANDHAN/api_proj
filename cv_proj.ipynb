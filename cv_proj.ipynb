{
  "nbformat": 4,
  "nbformat_minor": 0,
  "metadata": {
    "colab": {
      "provenance": []
    },
    "kernelspec": {
      "name": "python3",
      "display_name": "Python 3"
    },
    "language_info": {
      "name": "python"
    }
  },
  "cells": [
    {
      "cell_type": "code",
      "source": [
        "pip install python-docx"
      ],
      "metadata": {
        "colab": {
          "base_uri": "https://localhost:8080/"
        },
        "id": "AgIKkLHZJ6qX",
        "outputId": "be96d472-4685-449b-bd33-cf372814b5a4"
      },
      "execution_count": 11,
      "outputs": [
        {
          "output_type": "stream",
          "name": "stdout",
          "text": [
            "Collecting python-docx\n",
            "  Downloading python_docx-1.1.0-py3-none-any.whl (239 kB)\n",
            "\u001b[?25l     \u001b[90m━━━━━━━━━━━━━━━━━━━━━━━━━━━━━━━━━━━━━━━━\u001b[0m \u001b[32m0.0/239.6 kB\u001b[0m \u001b[31m?\u001b[0m eta \u001b[36m-:--:--\u001b[0m\r\u001b[2K     \u001b[91m━━━━━━━━━━━━━━━━━━━━━━━━━━━\u001b[0m\u001b[90m╺\u001b[0m\u001b[90m━━━━━━━━━━━━\u001b[0m \u001b[32m163.8/239.6 kB\u001b[0m \u001b[31m4.8 MB/s\u001b[0m eta \u001b[36m0:00:01\u001b[0m\r\u001b[2K     \u001b[90m━━━━━━━━━━━━━━━━━━━━━━━━━━━━━━━━━━━━━━━━\u001b[0m \u001b[32m239.6/239.6 kB\u001b[0m \u001b[31m4.8 MB/s\u001b[0m eta \u001b[36m0:00:00\u001b[0m\n",
            "\u001b[?25hRequirement already satisfied: lxml>=3.1.0 in /usr/local/lib/python3.10/dist-packages (from python-docx) (4.9.4)\n",
            "Requirement already satisfied: typing-extensions in /usr/local/lib/python3.10/dist-packages (from python-docx) (4.10.0)\n",
            "Installing collected packages: python-docx\n",
            "Successfully installed python-docx-1.1.0\n"
          ]
        }
      ]
    },
    {
      "cell_type": "code",
      "execution_count": 19,
      "metadata": {
        "id": "_6UP6L1uIXI7"
      },
      "outputs": [],
      "source": [
        "name = \"Shivam Mandhan\"\n",
        "\n",
        "contact_details = [\n",
        "    {'type': 'Email', 'value': 'shivam@gmail.com'},\n",
        "    {'type': 'Phone', 'value': '7909830000'},\n",
        "    {'type': 'Address', 'value': '21 stree, Gurgaon'}\n",
        "    ]\n",
        "\n",
        "education = [\n",
        "    {'degree': 'Bachelor of Technology', 'school': 'MITS', 'date': '2019-2023'},\n",
        "]\n",
        "\n",
        "soft_skills = ['Communication', 'Leadership', 'Team Work']\n",
        "\n",
        "tech_skills = ['Python', 'Java', 'Web Development', 'Database Management']\n",
        "\n",
        "interests = ['Books', 'Chess', 'Swimming']"
      ]
    },
    {
      "cell_type": "code",
      "source": [
        "from docx import Document\n",
        "from docx.shared import Pt\n",
        "\n",
        "\n",
        "def create_resume(name, education, contact_details, skills, filename):\n",
        "\n",
        "    doc = Document()\n",
        "\n",
        "    # Name\n",
        "    name_heading = doc.add_heading(name, level=1)\n",
        "    name_heading.runs[0].font.size = Pt(30)\n",
        "\n",
        "    # Contact Details\n",
        "    doc.add_heading('Contact Details', level=2)\n",
        "    for detail in contact_details:\n",
        "        doc.add_paragraph(f\"{detail['type']}: {detail['value']}\")\n",
        "\n",
        "    # Education\n",
        "    doc.add_heading('Education', level=2)\n",
        "    for edu in education:\n",
        "        doc.add_paragraph(f\"{edu['degree']}, {edu['school']}, {edu['date']}\")\n",
        "\n",
        "    # Soft Skills\n",
        "    doc.add_heading('Soft Skills', level=2)\n",
        "    soft_skills_text = ', '.join(soft_skills)\n",
        "    doc.add_paragraph(soft_skills_text)\n",
        "\n",
        "    # Tech Skills\n",
        "    doc.add_heading('Technical Skills', level=2)\n",
        "    tech_skills_text = ', '.join(tech_skills)\n",
        "    doc.add_paragraph(tech_skills_text)\n",
        "\n",
        "    # Interests\n",
        "    doc.add_heading('Interests', level=2)\n",
        "    interests_text = ', '.join(interests)\n",
        "    doc.add_paragraph(interests_text)\n",
        "\n",
        "    # Save the document\n",
        "    doc.save(filename)\n",
        "\n",
        "\n",
        "create_resume(name, education, contact_details, skills, 'resume.docx')\n"
      ],
      "metadata": {
        "id": "48R7sc-GJ_Nu"
      },
      "execution_count": 20,
      "outputs": []
    },
    {
      "cell_type": "code",
      "source": [],
      "metadata": {
        "id": "25JBByUnbXUN"
      },
      "execution_count": null,
      "outputs": []
    },
    {
      "cell_type": "code",
      "source": [],
      "metadata": {
        "id": "jIexeS3nKXry"
      },
      "execution_count": null,
      "outputs": []
    }
  ]
}